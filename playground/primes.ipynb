{
 "cells": [
  {
   "cell_type": "code",
   "execution_count": 6,
   "metadata": {},
   "outputs": [
    {
     "name": "stdout",
     "output_type": "stream",
     "text": [
      "/Users/ricardo/git/numbers\n"
     ]
    }
   ],
   "source": [
    "cd .."
   ]
  },
  {
   "cell_type": "code",
   "execution_count": 7,
   "metadata": {},
   "outputs": [],
   "source": [
    "import src.euler as euler\n",
    "import src.primes as primes"
   ]
  },
  {
   "cell_type": "code",
   "execution_count": 2,
   "metadata": {},
   "outputs": [
    {
     "data": {
      "text/plain": [
       "(40,\n",
       " '[41, 43, 47, 53, 61, 71, 83, 97, 113, 131, 151, 173, 197, 223, 251, 281, 313, 347, 383, 421, 461, 503, 547, 593, 641, 691, 743, 797, 853, 911, 971, 1033, 1097, 1163, 1231, 1301, 1373, 1447, 1523, 1601]')"
      ]
     },
     "execution_count": 2,
     "metadata": {},
     "output_type": "execute_result"
    }
   ],
   "source": [
    "l_primes = list(euler.gen_prime_poly())\n",
    "len(l_primes), str(l_primes)"
   ]
  },
  {
   "cell_type": "code",
   "execution_count": 3,
   "metadata": {},
   "outputs": [
    {
     "data": {
      "text/plain": [
       "{True}"
      ]
     },
     "execution_count": 3,
     "metadata": {},
     "output_type": "execute_result"
    }
   ],
   "source": [
    "set([primes.test_primality_composite(p) for p in euler.gen_prime_poly()])"
   ]
  },
  {
   "cell_type": "code",
   "execution_count": 8,
   "metadata": {},
   "outputs": [
    {
     "name": "stderr",
     "output_type": "stream",
     "text": [
      "WARNING:root:Provided n greater than 10^8 - 1. Universe could freeze before this execution ends.\n"
     ]
    },
    {
     "data": {
      "text/plain": [
       "5761455"
      ]
     },
     "execution_count": 8,
     "metadata": {},
     "output_type": "execute_result"
    }
   ],
   "source": [
    "l_primes = list(primes.gen_primes_eratosthenes(10**8+1))\n",
    "len(l_primes)"
   ]
  },
  {
   "cell_type": "code",
   "execution_count": 9,
   "metadata": {},
   "outputs": [
    {
     "data": {
      "text/plain": [
       "99999989"
      ]
     },
     "execution_count": 9,
     "metadata": {},
     "output_type": "execute_result"
    }
   ],
   "source": [
    "l_primes[-1]"
   ]
  },
  {
   "cell_type": "code",
   "execution_count": 10,
   "metadata": {},
   "outputs": [
    {
     "data": {
      "text/plain": [
       "{True}"
      ]
     },
     "execution_count": 10,
     "metadata": {},
     "output_type": "execute_result"
    }
   ],
   "source": [
    "set([primes.test_primality_composite(p) for p in euler.gen_prime_poly()])"
   ]
  },
  {
   "cell_type": "code",
   "execution_count": 77,
   "metadata": {},
   "outputs": [
    {
     "data": {
      "text/plain": [
       "True"
      ]
     },
     "execution_count": 77,
     "metadata": {},
     "output_type": "execute_result"
    }
   ],
   "source": [
    "primes.test_primality_fermat(2)"
   ]
  },
  {
   "cell_type": "code",
   "execution_count": 5,
   "metadata": {},
   "outputs": [
    {
     "data": {
      "text/plain": [
       "[2,\n",
       " 3,\n",
       " 5,\n",
       " 7,\n",
       " 13,\n",
       " 17,\n",
       " 23,\n",
       " 31,\n",
       " 89,\n",
       " 211,\n",
       " 233,\n",
       " 257,\n",
       " 719,\n",
       " 877,\n",
       " 1597,\n",
       " 2311,\n",
       " 5039,\n",
       " 28657,\n",
       " 65537,\n",
       " 514229,\n",
       " 27644437,\n",
       " 39916801,\n",
       " 433494437,\n",
       " 479001599,\n",
       " 2971215073,\n",
       " 87178291199,\n",
       " 200560490131,\n",
       " 99194853094755497,\n",
       " 1066340417491710595814572169,\n",
       " 10888869450418352160768000001,\n",
       " 19134702400093278081449423917,\n",
       " 265252859812191058636308479999999,\n",
       " 263130836933693530167218012159999999,\n",
       " 8683317618811886495518194401279999999,\n",
       " 35742549198872617291353508656626642567,\n",
       " 393050634124102232869567034555427371542904833,\n",
       " 359334085968622831041960188598043661065388726959079837]"
      ]
     },
     "execution_count": 5,
     "metadata": {},
     "output_type": "execute_result"
    }
   ],
   "source": [
    "primes.primes_famous()\n"
   ]
  },
  {
   "cell_type": "code",
   "execution_count": null,
   "metadata": {},
   "outputs": [],
   "source": []
  }
 ],
 "metadata": {
  "kernelspec": {
   "display_name": "numbers-8w47Is3B-py3.9",
   "language": "python",
   "name": "python3"
  },
  "language_info": {
   "codemirror_mode": {
    "name": "ipython",
    "version": 3
   },
   "file_extension": ".py",
   "mimetype": "text/x-python",
   "name": "python",
   "nbconvert_exporter": "python",
   "pygments_lexer": "ipython3",
   "version": "3.9.13"
  },
  "orig_nbformat": 4,
  "vscode": {
   "interpreter": {
    "hash": "e7ced6b7d7db11ded57089cbf51a39403e4482677cb35c1c9f6132c35e6045ad"
   }
  }
 },
 "nbformat": 4,
 "nbformat_minor": 2
}
